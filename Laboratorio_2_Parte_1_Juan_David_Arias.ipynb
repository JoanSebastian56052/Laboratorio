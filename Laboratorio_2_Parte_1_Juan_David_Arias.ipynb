{
 "cells": [
  {
   "cell_type": "markdown",
   "metadata": {},
   "source": [
    "# Laboratorio 2 - Parte 1\n",
    "\n",
    "### Modelos no paramétricos\n",
    "\n",
    "### 2018-II\n",
    "\n",
    "#### Profesor: Julián D. Arias Londoño\n",
    "#### julian.ariasl@udea.edu.co\n"
   ]
  },
  {
   "cell_type": "markdown",
   "metadata": {},
   "source": [
    "## Guía del laboratorio\n",
    "\n",
    "En esta archivo va a encontrar tanto celdas de código cómo celdas de texto con las instrucciones para desarrollar el laboratorio.\n",
    "\n",
    "Lea atentamente las instrucciones entregadas en las celdas de texto correspondientes y proceda con la solución de las preguntas planteadas.\n",
    "\n",
    "Nota: no olvide ir ejecutando las celdas de código de arriba hacia abajo para que no tenga errores de importación de librerías o por falta de definición de variables."
   ]
  },
  {
   "cell_type": "code",
   "execution_count": 3,
   "metadata": {},
   "outputs": [
    {
     "name": "stdout",
     "output_type": "stream",
     "text": [
      "Haga click en el siguiente enlace para autenticarse con su cuenta de correo institucional\n",
      "https://accounts.google.com/o/oauth2/auth?response_type=code&client_id=893762525034-g9d91ddls9e19a1q77c7hsq2rhgqo9h7.apps.googleusercontent.com&access_type=offline&scope=profile+email&redirect_uri=http%3A%2F%2Flocalhost%3A8080\n",
      "waiting for authentication ...\n",
      "authentication succeeded\n",
      "/?code=4/SADnqfhblek7DIqc4zECVX_FooHTNxZKfAt8Yf1FZzjVAT2pIFDo8hepsbLQtgmzPKAsdnO9gwRBAviUY_d3rBM\n"
     ]
    },
    {
     "data": {
      "text/html": [
       "<table><tr><td><img src='https://lh4.googleusercontent.com/-IaR5EKUmMFI/AAAAAAAAAAI/AAAAAAAAA3A/fpWVZJzl_Wc/photo.jpg' width=60 height=60/></td><td>juan.arias8@udea.edu.co<br/>JUAN   DAVID ARIAS GUARÍN<br/>google id: 115821968669581983796<br/></td></tr></table>"
      ],
      "text/plain": [
       "<IPython.core.display.HTML object>"
      ]
     },
     "execution_count": 3,
     "metadata": {},
     "output_type": "execute_result"
    }
   ],
   "source": [
    "#Tomado de https://github.com/rramosp/mooc-grader\n",
    "from Autentication import *#python 3\n",
    "import inspect, urllib\n",
    "html, auth_code, userinfo = google_authenticate(PORT_NUMBER=8080)\n",
    "html\n"
   ]
  },
  {
   "cell_type": "markdown",
   "metadata": {},
   "source": [
    "#### Segundo integrante:"
   ]
  },
  {
   "cell_type": "markdown",
   "metadata": {},
   "source": [
    "<b>Comentario</b>: Nota: 4.8"
   ]
  },
  {
   "cell_type": "code",
   "execution_count": 1,
   "metadata": {},
   "outputs": [],
   "source": [
    "%matplotlib inline\n",
    "import numpy as np\n",
    "import matplotlib.pyplot as plt\n",
    "from __future__ import division\n",
    "\n",
    "# Algunas advertencias que queremos evitar\n",
    "import warnings\n",
    "warnings.filterwarnings(\"always\")"
   ]
  },
  {
   "cell_type": "markdown",
   "metadata": {},
   "source": [
    "## Ejercicio 1\n",
    "\n",
    "Genere un conjunto de 1000 muestras artificiales con una distribución que corresponda a la suma de dos Gaussiana con diferente media, ambas de una sola dimension. Grafique el histograma de los datos generados."
   ]
  },
  {
   "cell_type": "code",
   "execution_count": 3,
   "metadata": {},
   "outputs": [
    {
     "data": {
      "image/png": "[encoded data removed]",
      "text/plain": [
       "<Figure size 432x288 with 1 Axes>"
      ]
     },
     "metadata": {},
     "output_type": "display_data"
    }
   ],
   "source": [
    "import numpy as np\n",
    "import matplotlib.pyplot as plt\n",
    "\n",
    "mu_1 = 0.5\n",
    "mu_2 = 0.6 \n",
    "sigma = 0.8\n",
    "gaussiana_1 = np.random.normal(mu_1, sigma, 1000)\n",
    "gaussiana_2 = np.random.normal(mu_2, sigma, 1000)\n",
    "gaussianas = gaussiana_1 + gaussiana_2\n",
    "\n",
    "count, bins, _ = plt.hist(gaussianas, 40, density = True)\n",
    "plt.plot(bins, 1 / (np.sqrt(2 * np.pi) * sigma) * np.exp(-(bins - (mu_1 + mu_2))**2 / (2 * sigma**2)))\n",
    "plt.show()"
   ]
  },
  {
   "cell_type": "markdown",
   "metadata": {},
   "source": [
    "## Ejercicio 2\n",
    "\n",
    "Para el problema de regresion usaremos la misma base de datos del laboratorio anterior."
   ]
  },
  {
   "cell_type": "code",
   "execution_count": 4,
   "metadata": {},
   "outputs": [],
   "source": [
    "# cargamos la bd que está en un archivo .data y ahora la podemos manejar de forma matricial\n",
    "db = np.loadtxt('DB/AirQuality.data',delimiter='\\t')  # Assuming tab-delimiter\n",
    "\n",
    "# Esta es la base de datos AirQuality del UCI Machine Learning Repository. En la siguiente URL se encuentra toda\n",
    "# la descripción de la base de datos y la contextualización del problema.\n",
    "# https://archive.ics.uci.edu/ml/datasets/Air+Quality#\n",
    "\n",
    "X = db[:5000, 0:12]\n",
    "Y = db[:5000, 12]"
   ]
  },
  {
   "cell_type": "code",
   "execution_count": 5,
   "metadata": {},
   "outputs": [
    {
     "name": "stdout",
     "output_type": "stream",
     "text": [
      "(5000, 12)\n",
      "(5000,)\n"
     ]
    }
   ],
   "source": [
    "print(X.shape)\n",
    "print(Y.shape)"
   ]
  },
  {
   "cell_type": "markdown",
   "metadata": {},
   "source": [
    "Describa cómo esta construida la base de datos utilizada en el problema de regresion: \n",
    "\n",
    "2.1 ¿Cuántas muestras hay en total?:\n",
    "    * La base de datos tiene 5000 muestras en total\n",
    "\n",
    "2.2 ¿Cuántas características tiene el problema?:\n",
    "    * La base de datos tiene 12 caractérísticas en total"
   ]
  },
  {
   "cell_type": "markdown",
   "metadata": {},
   "source": [
    "## Ejercicio 3\n",
    "\n",
    "Analice los siguientes métodos a la luz de la teoría vista para los modelos de K vecinos más cercanos (KNN) y complete el código del método KNN.\n",
    "\n",
    "<b>Nota</b>: Para el cáculo de la distancia entre vectores tienen dos opciones, usar la función scipy.spatial.distance.euclidean o usar la función numpy.linalg.norm. Revisen la documentación para comprender su uso. También serán de utilidad las funciones numpy.sort y numpy.argsort.\n"
   ]
  },
  {
   "cell_type": "code",
   "execution_count": 7,
   "metadata": {},
   "outputs": [],
   "source": [
    "import operator\n",
    "\n",
    "from numpy import linalg as la\n",
    "from scipy.spatial import distance"
   ]
  },
  {
   "cell_type": "code",
   "execution_count": 8,
   "metadata": {},
   "outputs": [],
   "source": [
    "# Mean Absolute Percentage Error para los problemas de regresión\n",
    "def MAPE(Y_est, Y):\n",
    "    N = np.size(Y)\n",
    "    mape = np.sum(abs((Y_est.reshape(N, 1) - Y.reshape(N, 1)) / Y.reshape(N, 1))) / N\n",
    "    return mape "
   ]
  },
  {
   "cell_type": "code",
   "execution_count": 9,
   "metadata": {},
   "outputs": [],
   "source": [
    "# Para calcular el error en los problemas de clasificación\n",
    "def error(Y_lest, Y):\n",
    "    error = 0\n",
    "    for ye, y in zip(Y_lest, Y):\n",
    "        if ye != y:\n",
    "            error += 1\n",
    "    \n",
    "    error = error / np.size(Y)\n",
    "    \n",
    "    return error"
   ]
  },
  {
   "cell_type": "code",
   "execution_count": 10,
   "metadata": {},
   "outputs": [],
   "source": [
    "def points_distance(p1, p2):\n",
    "    return la.norm(p1 - p2)"
   ]
  },
  {
   "cell_type": "code",
   "execution_count": 11,
   "metadata": {},
   "outputs": [],
   "source": [
    "def points_distance_2(p1, p2):\n",
    "    return distance.euclidean(p1, p2)"
   ]
  },
  {
   "cell_type": "code",
   "execution_count": 12,
   "metadata": {},
   "outputs": [
    {
     "name": "stdout",
     "output_type": "stream",
     "text": [
      "29.9833287011299\n",
      "29.9833287011299\n"
     ]
    }
   ],
   "source": [
    "p1 = np.array([10, 25, 15])\n",
    "p2 = np.array([7, 2, 34])\n",
    "\n",
    "print(points_distance(p1, p2))\n",
    "print(points_distance_2(p1, p2))"
   ]
  },
  {
   "cell_type": "code",
   "execution_count": 13,
   "metadata": {},
   "outputs": [
    {
     "name": "stdout",
     "output_type": "stream",
     "text": [
      "[10, 15, 25]\n",
      "[10 15 25]\n",
      "<class 'list'>\n",
      "<class 'numpy.ndarray'>\n"
     ]
    }
   ],
   "source": [
    "p1 = np.array([10, 25, 15])\n",
    "\n",
    "sort_1 = sorted(p1)\n",
    "sort_2 = np.sort(p1)\n",
    "\n",
    "print(sort_1)\n",
    "print(sort_2)\n",
    "\n",
    "print(type(sort_1))\n",
    "print(type(sort_2))"
   ]
  },
  {
   "cell_type": "code",
   "execution_count": 14,
   "metadata": {},
   "outputs": [
    {
     "data": {
      "text/plain": [
       "array([2, 5, 3, 4, 0, 1])"
      ]
     },
     "execution_count": 14,
     "metadata": {},
     "output_type": "execute_result"
    }
   ],
   "source": [
    "array = np.array([10, 20, 3, 8, 9, 5])\n",
    "index = np.argsort(array)\n",
    "index"
   ]
  },
  {
   "cell_type": "code",
   "execution_count": 15,
   "metadata": {},
   "outputs": [],
   "source": [
    "def KNN(X_train, Y_train, X_val, k, tipo):\n",
    "    \n",
    "    # X_train es la matriz con las muestras de entrenamiento\n",
    "    # Y_train es un vector con los valores de salida pra cada una de las muestras de entrenamiento\n",
    "    # X_val es la matriz con las muestras de validación\n",
    "    # tipo es una bandera que indica si el problema es de regresión o de clasificación.\n",
    "    # Parámetro k que equivale al número de vecinos a tener en cuenta para resolver el problema de\n",
    "    # predicción de la variable de salida\n",
    "    \n",
    "    Y_est = []    \n",
    "    \n",
    "    for x_1 in X_val:\n",
    "        \n",
    "        neighborhood = []\n",
    "        distances = []\n",
    "       \n",
    "        for x_2 in X_train:\n",
    "            distances.append(points_distance(x_1, x_2))\n",
    "               \n",
    "        sorted_index = np.argsort(distances)\n",
    "       \n",
    "        # k vecinos cercanos\n",
    "        for i in range(k):\n",
    "            neighborhood.append(Y_train[sorted_index[i]])\n",
    "       \n",
    "        # Regression option\n",
    "        if tipo == 'r':\n",
    "            k_mean = np.mean(neighborhood)\n",
    "            Y_est.append(k_mean)\n",
    "        \n",
    "        # Classification option\n",
    "        elif tipo == 'c':\n",
    "            k_mode = np.mode(neighborhood)\n",
    "            Y_est.append(k_mode)\n",
    "\n",
    "    return Y_est   \n",
    "       "
   ]
  },
  {
   "cell_type": "markdown",
   "metadata": {},
   "source": [
    "## Ejercicio 4\n",
    "\n",
    "Una vez haya completado el codigo del método de KNN, ejecute varias veces el proceso de entrenamiento y evaluacion cambiando el parametro $k$, el cual es el numero de vecinos, y complete la siguiente tabla con los valores del error MAPE obtenidos:"
   ]
  },
  {
   "cell_type": "code",
   "execution_count": 17,
   "metadata": {},
   "outputs": [
    {
     "name": "stdout",
     "output_type": "stream",
     "text": [
      "\n",
      "Error durante la prueba = 0.26879661924012493+-0.005340544195603092\n"
     ]
    }
   ],
   "source": [
    "from numpy import random\n",
    "from scipy import stats\n",
    "import math\n",
    "\n",
    "from sklearn import neighbors\n",
    "\n",
    "N = np.size(X, 0)\n",
    "\n",
    "# Validamos el modelo\n",
    "random.seed(1)\n",
    "Error = np.zeros(2)\n",
    "for j in range(2):\n",
    "    ind = np.random.permutation(N)\n",
    "    Xtrain = X[ind[0:int(math.ceil(0.7 * N))], :]\n",
    "    Xtest = X[ind[int(math.ceil(0.7 * N)):N], :]\n",
    "    Ytrain = Y[ind[0:int(math.ceil(0.7 * N))]]\n",
    "    Ytest = Y[ind[int(math.ceil(0.7 * N)):N]]\n",
    "\n",
    "    # Normalizamos los datos\n",
    "    media = np.mean(Xtrain)\n",
    "    desvia = np.std(Xtrain)\n",
    "    Xtrain = stats.stats.zscore(Xtrain)\n",
    "    Xtest = (Xtest - np.matlib.repmat(media, Xtest.shape[0], 1)) / np.matlib.repmat(desvia, Xtest.shape[0], 1)\n",
    "    \n",
    "    # Complete con el llamado apropiado de la función que Uds diseñaron\n",
    "    Yest = KNN(Xtrain, Ytrain, Xtest, 100, 'r')\n",
    "\n",
    "    Yest = np.array(Yest)\n",
    "    Ytest = np.array(Ytest)\n",
    "    \n",
    "    # neigh = neighbors.KNeighborsRegressor(n_neighbors=2)\n",
    "    # neigh.fit(Xtrain, Ytrain) \n",
    "    # Yest = neigh.predict(Xtest)\n",
    "        \n",
    "    # Evaluamos las predicciones del modelo con los datos de test\n",
    "    Error[j] = MAPE(Yest, Ytest)  \n",
    "print('\\nError durante la prueba = ' + str(np.mean(Error)) + '+-' + str(np.std(Error)))"
   ]
  },
  {
   "cell_type": "code",
   "execution_count": 18,
   "metadata": {},
   "outputs": [
    {
     "name": "stdout",
     "output_type": "stream",
     "text": [
      "(3500, 12)\n",
      "(1500, 12)\n"
     ]
    }
   ],
   "source": [
    "print(Xtrain.shape)\n",
    "print(Xtest.shape)"
   ]
  },
  {
   "cell_type": "code",
   "execution_count": 19,
   "metadata": {},
   "outputs": [
    {
     "name": "stdout",
     "output_type": "stream",
     "text": [
      "(3500,)\n",
      "(1500,)\n"
     ]
    }
   ],
   "source": [
    "print(Ytrain.shape)\n",
    "print(Ytest.shape)"
   ]
  },
  {
   "cell_type": "markdown",
   "metadata": {},
   "source": [
    "Responda:\n",
    "\n",
    "4.1 ¿Qué metodología de validación se usa en el experimento?\n",
    "    * Para la validación se toman muestras aleatorias de el conjunto de datos, en las cuales el 70% de las \n",
    "      muestras van para datos de entrenamiento y 30% para datos de validación, además de esto el proceso se \n",
    "      repite en dos iteraciones, por tanto se está utilizando Bootstrap validation\n",
    "\n",
    "4.2 ¿Cuántas muestras se usan para el entrenamiento?\n",
    "    * Se utilizan 3500 muestras para el entrenamiento\n",
    "    \n",
    "4.3 ¿Cuántas muestras se usan para la validación?\n",
    "    * Se utilizan 1500 muestras para la validación"
   ]
  },
  {
   "cell_type": "markdown",
   "metadata": {},
   "source": [
    "#### Tabla de resultados"
   ]
  },
  {
   "cell_type": "code",
   "execution_count": 22,
   "metadata": {},
   "outputs": [
    {
     "data": {
      "application/vnd.jupyter.widget-view+json": {
       "model_id": "4fd4180e21e8463aaababce0e9325a0c",
       "version_major": 2,
       "version_minor": 0
      },
      "text/plain": [
       "QgridWidget(grid_options={'minVisibleRows': 8, 'highlightSelectedRow': True, 'explicitInitialization': True, '…"
      ]
     },
     "metadata": {},
     "output_type": "display_data"
    }
   ],
   "source": [
    "import pandas as pd\n",
    "import qgrid\n",
    "randn = np.random.randn\n",
    "df_types = pd.DataFrame(\n",
    "    {'Numero de vecinos' : pd.Series(\n",
    "        ['1', '2', '3', '4', '5', '6', '7', '100']\n",
    "    )}\n",
    ")\n",
    "\n",
    "df_types[\"Error_Prueba\"] = \"\"\n",
    "df_types[\"Desviación estándar del error\"] = \"\"\n",
    "df_types.set_index(['Numero de vecinos'], inplace=True)\n",
    "df_types[\"Error_Prueba\"][1] = \"0.3630\"\n",
    "df_types[\"Desviación estándar del error\"][1] = \"0.0061\"\n",
    "\n",
    "#df_types.sort_index(inplace=True)\n",
    "qgrid_widget = qgrid.show_grid(df_types, show_toolbar=False)\n",
    "qgrid_widget"
   ]
  },
  {
   "cell_type": "markdown",
   "metadata": {},
   "source": [
    "Ejecute la siguiente instrucción para dejar guardados en el notebook los resultados de las pruebas."
   ]
  },
  {
   "cell_type": "code",
   "execution_count": 23,
   "metadata": {},
   "outputs": [
    {
     "data": {
      "text/html": [
       "<div>\n",
       "<style scoped>\n",
       "    .dataframe tbody tr th:only-of-type {\n",
       "        vertical-align: middle;\n",
       "    }\n",
       "\n",
       "    .dataframe tbody tr th {\n",
       "        vertical-align: top;\n",
       "    }\n",
       "\n",
       "    .dataframe thead th {\n",
       "        text-align: right;\n",
       "    }\n",
       "</style>\n",
       "<table border=\"1\" class=\"dataframe\">\n",
       "  <thead>\n",
       "    <tr style=\"text-align: right;\">\n",
       "      <th></th>\n",
       "      <th>Error_Prueba</th>\n",
       "      <th>Desviación estándar del error</th>\n",
       "    </tr>\n",
       "    <tr>\n",
       "      <th>Numero de vecinos</th>\n",
       "      <th></th>\n",
       "      <th></th>\n",
       "    </tr>\n",
       "  </thead>\n",
       "  <tbody>\n",
       "    <tr>\n",
       "      <th>1</th>\n",
       "      <td>0.3840</td>\n",
       "      <td>0.0164</td>\n",
       "    </tr>\n",
       "    <tr>\n",
       "      <th>2</th>\n",
       "      <td>0.3630</td>\n",
       "      <td>0.0061</td>\n",
       "    </tr>\n",
       "    <tr>\n",
       "      <th>3</th>\n",
       "      <td>0.3497</td>\n",
       "      <td>0.0023</td>\n",
       "    </tr>\n",
       "    <tr>\n",
       "      <th>4</th>\n",
       "      <td>0.3411</td>\n",
       "      <td>0.0045</td>\n",
       "    </tr>\n",
       "    <tr>\n",
       "      <th>5</th>\n",
       "      <td>0.3336</td>\n",
       "      <td>0.0027</td>\n",
       "    </tr>\n",
       "    <tr>\n",
       "      <th>6</th>\n",
       "      <td>0.3252</td>\n",
       "      <td>0.0019</td>\n",
       "    </tr>\n",
       "    <tr>\n",
       "      <th>7</th>\n",
       "      <td>0.3201</td>\n",
       "      <td>0.0007</td>\n",
       "    </tr>\n",
       "    <tr>\n",
       "      <th>100</th>\n",
       "      <td>0.2687</td>\n",
       "      <td>0.0053</td>\n",
       "    </tr>\n",
       "  </tbody>\n",
       "</table>\n",
       "</div>"
      ],
      "text/plain": [
       "                  Error_Prueba Desviación estándar del error\n",
       "Numero de vecinos                                           \n",
       "1                       0.3840                        0.0164\n",
       "2                       0.3630                        0.0061\n",
       "3                       0.3497                        0.0023\n",
       "4                       0.3411                        0.0045\n",
       "5                       0.3336                        0.0027\n",
       "6                       0.3252                        0.0019\n",
       "7                       0.3201                        0.0007\n",
       "100                     0.2687                        0.0053"
      ]
     },
     "execution_count": 23,
     "metadata": {},
     "output_type": "execute_result"
    }
   ],
   "source": [
    "qgrid_widget.get_changed_df()"
   ]
  },
  {
   "cell_type": "markdown",
   "metadata": {},
   "source": [
    "## Ejercicio 5\n",
    "\n",
    "Ahora debe resolver el mismo problema de regresión, pero con el modelo de ventana de Parzen.\n",
    "\n",
    "Para el problema de regresión debe completar el código para implementar la función Nadaraya-Watson.\n",
    "\n",
    "Nota: Los métodos dist_euclidiana y ECM continuan siendo válidos para el modelo ventana de Parzen.\n"
   ]
  },
  {
   "cell_type": "code",
   "execution_count": 24,
   "metadata": {},
   "outputs": [],
   "source": [
    "# Mean Absolute Percentage Error para los problemas de regresión\n",
    "def MAPE(Y_est, Y):\n",
    "    N = np.size(Y)\n",
    "    mape = np.sum(abs((Y_est.reshape(N, 1) - Y.reshape(N, 1)) / Y.reshape(N, 1))) / N\n",
    "    return mape "
   ]
  },
  {
   "cell_type": "code",
   "execution_count": 25,
   "metadata": {},
   "outputs": [],
   "source": [
    "def points_distance(p1, p2):\n",
    "    return la.norm(p1 - p2)"
   ]
  },
  {
   "cell_type": "code",
   "execution_count": 26,
   "metadata": {},
   "outputs": [],
   "source": [
    "def kernel_gaussiano(x):\n",
    "    return (np.exp((-0.5) * x**2))"
   ]
  },
  {
   "cell_type": "code",
   "execution_count": 29,
   "metadata": {},
   "outputs": [],
   "source": [
    "def Nadaraya_Watson(X_train, X_val, Y_train, h):\n",
    "    \"\"\"\n",
    "    Parameters\n",
    "    ----------\n",
    "    X_train: matrix\n",
    "        muestras de entrenamiento \n",
    "    Y_train: array \n",
    "        muestras de entrenamiento target\n",
    "    X_val: matrix \n",
    "        muestras de validación\n",
    "    h: int\n",
    "        ancho de la ventana\n",
    "    \"\"\"\n",
    "    \n",
    "    Y_est = []\n",
    "    \n",
    "    for xv in X_val:\n",
    "        num = 0\n",
    "        den = 0\n",
    "        \n",
    "        for index, xt in enumerate(X_train):\n",
    "            ui = points_distance(xv, xt) / h\n",
    "            num += kernel_gaussiano(ui) * Y_train[index]\n",
    "            den += kernel_gaussiano(ui)\n",
    "        Y_est.append(num / den)\n",
    "    \n",
    "    # Debe retornar un vector que contenga las predicciones para cada una de las muestras en X_val, en el mismo orden. \n",
    "    return Y_est\n"
   ]
  },
  {
   "cell_type": "markdown",
   "metadata": {},
   "source": [
    "## Ejercicio 6\n",
    "\n",
    "Una vez haya completado el codigo del método de Ventana de Parzen, ejecute varias veces el proceso de entrenamiento y evaluacion cambiando el parametro $h$, el cual es el ancho de la función kernel, y complete la siguiente tabla con los valores del error MAPE obtenidos:"
   ]
  },
  {
   "cell_type": "code",
   "execution_count": 30,
   "metadata": {},
   "outputs": [
    {
     "name": "stdout",
     "output_type": "stream",
     "text": [
      "\n",
      "Error durante la prueba = 2.1427564244929034+-0.15597858444551282\n"
     ]
    }
   ],
   "source": [
    "from numpy import random\n",
    "from scipy import stats\n",
    "import math\n",
    "\n",
    "from sklearn import neighbors\n",
    "\n",
    "N = np.size(X, 0)\n",
    "\n",
    "# Validamos el modelo\n",
    "random.seed(1)\n",
    "Error = np.zeros(2)\n",
    "for j in range(2):\n",
    "    ind = np.random.permutation(N)\n",
    "    Xtrain = X[ind[0:int(math.ceil(0.7 * N))], :]\n",
    "    Xtest = X[ind[int(math.ceil(0.7 * N)):N], :]\n",
    "    Ytrain = Y[ind[0:int(math.ceil(0.7 * N))]]\n",
    "    Ytest = Y[ind[int(math.ceil(0.7 * N)):N]]\n",
    "\n",
    "    # Normalizamos los datos\n",
    "    media = np.mean(Xtrain)\n",
    "    desvia = np.std(Xtrain)\n",
    "    Xtrain = stats.stats.zscore(Xtrain)\n",
    "    Xtest = (Xtest - np.matlib.repmat(media, Xtest.shape[0], 1)) / np.matlib.repmat(desvia, Xtest.shape[0], 1)\n",
    "    \n",
    "    # Complete con el llamado apropiado de la función que Uds diseñaron\n",
    "    Yest = Nadaraya_Watson(Xtrain, Xtest, Ytrain, 10)\n",
    "\n",
    "    Yest = np.array(Yest)\n",
    "    Ytest = np.array(Ytest)\n",
    "        \n",
    "    # Evaluamos las predicciones del modelo con los datos de test\n",
    "    Error[j] = MAPE(Yest, Ytest)  \n",
    "print('\\nError durante la prueba = ' + str(np.mean(Error)) + '+-' + str(np.std(Error)))"
   ]
  },
  {
   "cell_type": "markdown",
   "metadata": {},
   "source": [
    "#### Tabla de resultados"
   ]
  },
  {
   "cell_type": "code",
   "execution_count": 31,
   "metadata": {},
   "outputs": [
    {
     "data": {
      "application/vnd.jupyter.widget-view+json": {
       "model_id": "9670aab9f7dd4fa8a13711d3ee6852d2",
       "version_major": 2,
       "version_minor": 0
      },
      "text/plain": [
       "QgridWidget(grid_options={'minVisibleRows': 8, 'highlightSelectedRow': True, 'explicitInitialization': True, '…"
      ]
     },
     "metadata": {},
     "output_type": "display_data"
    }
   ],
   "source": [
    "randn = np.random.randn\n",
    "df_types2 = pd.DataFrame(\n",
    "    {'Ancho del kernel' : pd.Series(\n",
    "        ['0.1', '0.9', '1', '2', '3', '5', '10']\n",
    "    )}\n",
    ")\n",
    "df_types2[\"Error_Prueba\"] = \"\"\n",
    "df_types2[\"Desviación estándar del error\"] = \"\"\n",
    "df_types2.set_index(['Ancho del kernel'], inplace=True)\n",
    "df_types2[\"Error_Prueba\"][1] = \"0.3011\"\n",
    "df_types2[\"Desviación estándar del error\"][1] = \"0.0031\"\n",
    "#df_types.sort_index(inplace=True)\n",
    "qgrid_widget = qgrid.show_grid(df_types2, show_toolbar=False)\n",
    "qgrid_widget"
   ]
  },
  {
   "cell_type": "markdown",
   "metadata": {},
   "source": [
    "Ejecute la siguiente instrucción para dejar guardados en el notebook los resultados de las pruebas."
   ]
  },
  {
   "cell_type": "code",
   "execution_count": 32,
   "metadata": {},
   "outputs": [
    {
     "data": {
      "text/html": [
       "<div>\n",
       "<style scoped>\n",
       "    .dataframe tbody tr th:only-of-type {\n",
       "        vertical-align: middle;\n",
       "    }\n",
       "\n",
       "    .dataframe tbody tr th {\n",
       "        vertical-align: top;\n",
       "    }\n",
       "\n",
       "    .dataframe thead th {\n",
       "        text-align: right;\n",
       "    }\n",
       "</style>\n",
       "<table border=\"1\" class=\"dataframe\">\n",
       "  <thead>\n",
       "    <tr style=\"text-align: right;\">\n",
       "      <th></th>\n",
       "      <th>Error_Prueba</th>\n",
       "      <th>Desviación estándar del error</th>\n",
       "    </tr>\n",
       "    <tr>\n",
       "      <th>Ancho del kernel</th>\n",
       "      <th></th>\n",
       "      <th></th>\n",
       "    </tr>\n",
       "  </thead>\n",
       "  <tbody>\n",
       "    <tr>\n",
       "      <th>0.1</th>\n",
       "      <td>0.3813</td>\n",
       "      <td>0.0157</td>\n",
       "    </tr>\n",
       "    <tr>\n",
       "      <th>0.9</th>\n",
       "      <td>0.3011</td>\n",
       "      <td>0.0031</td>\n",
       "    </tr>\n",
       "    <tr>\n",
       "      <th>1</th>\n",
       "      <td>0.3052</td>\n",
       "      <td>0.0031</td>\n",
       "    </tr>\n",
       "    <tr>\n",
       "      <th>2</th>\n",
       "      <td>0.3054</td>\n",
       "      <td>0.0039</td>\n",
       "    </tr>\n",
       "    <tr>\n",
       "      <th>3</th>\n",
       "      <td>0.2993</td>\n",
       "      <td>0.0042</td>\n",
       "    </tr>\n",
       "    <tr>\n",
       "      <th>5</th>\n",
       "      <td>0.2644</td>\n",
       "      <td>0.0033</td>\n",
       "    </tr>\n",
       "    <tr>\n",
       "      <th>10</th>\n",
       "      <td>2.1427</td>\n",
       "      <td>0.1559</td>\n",
       "    </tr>\n",
       "  </tbody>\n",
       "</table>\n",
       "</div>"
      ],
      "text/plain": [
       "                 Error_Prueba Desviación estándar del error\n",
       "Ancho del kernel                                           \n",
       "0.1                    0.3813                        0.0157\n",
       "0.9                    0.3011                        0.0031\n",
       "1                      0.3052                        0.0031\n",
       "2                      0.3054                        0.0039\n",
       "3                      0.2993                        0.0042\n",
       "5                      0.2644                        0.0033\n",
       "10                     2.1427                        0.1559"
      ]
     },
     "execution_count": 32,
     "metadata": {},
     "output_type": "execute_result"
    }
   ],
   "source": [
    "qgrid_widget.get_changed_df()"
   ]
  },
  {
   "cell_type": "markdown",
   "metadata": {},
   "source": [
    "Responda:\n",
    "\n",
    "6.1 Si intenta repetir la prueba anterior para un $h = 0.05$ el algoritmo falla. ¿Cuál es la causa de la falla?:\n",
    "    * RuntimeWarning: invalid value encountered in double_scalars\n",
    "    Al asignar el valor de 0.05 al valor de h se obtiene que el valor de u es cero.\n",
    "    Al realizar los calculos siguientes, los cuales corresponden al numerador y denominador\n",
    "    se encuentra que ambos valores son cero también, por tanto, al momento de realizar \n",
    "    la división de ambos valores el algoritmo arroja un valor nan, lo cual produce así un vector \n",
    "    de Yest completamente lleno de nan\n",
    "\n",
    "6.2 ¿Cómo evito que se presente la excepción?:\n",
    "    * Empleando valores aproximados a 0.9 o mayores o iguales a este."
   ]
  },
  {
   "cell_type": "markdown",
   "metadata": {},
   "source": [
    "<b>Comentarion</b>: 6.1 La respuesta es correcta pero sólo explica el problema numérico no la fuente del problema, ¿Qué pasa en los datos, que se produce dicho error? 6.2 No se debe limitar el valor de h porque dependiendo del problema puede ser necesario usar un valor más pequeño. De hecho el valor 0.1 es uno de los más usados. Se puede evitar sumando un epsilón (valor muy pequeño) al denominador de la función."
   ]
  },
  {
   "cell_type": "code",
   "execution_count": 33,
   "metadata": {},
   "outputs": [
    {
     "name": "stdout",
     "output_type": "stream",
     "text": [
      "38.49943264508688\n",
      "1.4e-322\n"
     ]
    }
   ],
   "source": [
    "\"\"\"\n",
    "Al asignar el valor de 0.05 al valor de h se obtiene que el valor de u es cero.\n",
    "Al realizar los calculos siguientes, los cuales corresponden al numerador y denominador\n",
    "se encuentra que ambos valores son cero también, por tanto, al momento de realizar \n",
    "la división de ambos valores el algoritmo arroja un valor nan, lo cual produce así un vector \n",
    "de Yest completamente lleno de nan\n",
    "\"\"\"\n",
    "\n",
    "distance = 3.422137568956482\n",
    "u = distance / 0.088888\n",
    "\n",
    "gaussian_kernel = (np.exp((-0.5) * u**2))\n",
    "\n",
    "print(u)\n",
    "print(gaussian_kernel)"
   ]
  }
 ],
 "metadata": {
  "kernelspec": {
   "display_name": "Python 2",
   "language": "python",
   "name": "python2"
  },
  "language_info": {
   "codemirror_mode": {
    "name": "ipython",
    "version": 2
   },
   "file_extension": ".py",
   "mimetype": "text/x-python",
   "name": "python",
   "nbconvert_exporter": "python",
   "pygments_lexer": "ipython2",
   "version": "2.7.15rc1"
  }
 },
 "nbformat": 4,
 "nbformat_minor": 2
}
